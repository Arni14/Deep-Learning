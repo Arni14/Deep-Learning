{
  "nbformat": 4,
  "nbformat_minor": 0,
  "metadata": {
    "colab": {
      "name": "gpu_experiments.ipynb",
      "provenance": []
    },
    "kernelspec": {
      "name": "python3",
      "display_name": "Python 3"
    },
    "language_info": {
      "name": "python"
    },
    "accelerator": "GPU"
  },
  "cells": [
    {
      "cell_type": "code",
      "execution_count": 2,
      "metadata": {
        "id": "GOpA_LR5rZft"
      },
      "outputs": [],
      "source": [
        "import torch \n",
        "from torch import nn\n",
        "from torch import functional as F\n",
        "import time"
      ]
    },
    {
      "cell_type": "code",
      "source": [
        "def try_gpu(i=0): \n",
        "    \"\"\"Return gpu(i) if exists, otherwise return cpu().\"\"\"\n",
        "    if torch.cuda.device_count() >= i + 1:\n",
        "        return torch.device(f'cuda:{i}')\n",
        "    return torch.device('cpu')"
      ],
      "metadata": {
        "id": "8oQIi55xsnSR"
      },
      "execution_count": 3,
      "outputs": []
    },
    {
      "cell_type": "code",
      "source": [
        "# Let's try the large matmul task on CPU. \n",
        "A = torch.randn((10000, 10000))\n",
        "B = torch.randn((10000, 10000))\n",
        "\n",
        "start = time.time()\n",
        "torch.matmul(A, B)\n",
        "end = time.time()\n",
        "delta = end - start\n",
        "print(\"On CPU, this took \" + str(delta) + \" seconds\")"
      ],
      "metadata": {
        "colab": {
          "base_uri": "https://localhost:8080/"
        },
        "id": "cwlmwDb1rfo2",
        "outputId": "3b428b20-13e7-49d1-80e4-0c31c6317bbc"
      },
      "execution_count": 2,
      "outputs": [
        {
          "output_type": "stream",
          "name": "stdout",
          "text": [
            "On CPU, this took 24.772244215011597 seconds\n"
          ]
        }
      ]
    },
    {
      "cell_type": "code",
      "source": [
        "# Let's try the large matmul task on GPU. \n",
        "A = torch.randn((10000, 10000), device=try_gpu())\n",
        "B = torch.randn((10000, 10000), device=try_gpu())\n",
        "\n",
        "start = time.time()\n",
        "torch.matmul(A, B)\n",
        "end = time.time()\n",
        "delta = end - start\n",
        "print(\"On CPU, this took \" + str(delta) + \" seconds\")"
      ],
      "metadata": {
        "colab": {
          "base_uri": "https://localhost:8080/"
        },
        "id": "xaBXDkUrsBwH",
        "outputId": "31c3bcaf-fa44-48f9-bff3-76a59576a8eb"
      },
      "execution_count": 4,
      "outputs": [
        {
          "output_type": "stream",
          "name": "stdout",
          "text": [
            "On CPU, this took 0.04722285270690918 seconds\n"
          ]
        }
      ]
    },
    {
      "cell_type": "code",
      "source": [
        "log = torch.empty((1000,), dtype=torch.float32, device=try_gpu())\n",
        "start = time.time()\n",
        "for i in range(1000):\n",
        "  A = torch.randn((100, 100)).to(device=try_gpu())\n",
        "  B = torch.randn((100, 100)).to(device=try_gpu())\n",
        "  result = torch.matmul(A, B)\n",
        "  log[i] = torch.norm(result, p='fro')\n",
        "end = time.time()\n",
        "print(\"On GPU, this took \" + str(end - start) + \" seconds\")\n",
        "in_memory_log = log.to('cpu')\n",
        "print(in_memory_log)"
      ],
      "metadata": {
        "colab": {
          "base_uri": "https://localhost:8080/"
        },
        "id": "_6mUYWdcs00s",
        "outputId": "98cafee9-bcdf-4cad-9572-6768e5a96078"
      },
      "execution_count": 16,
      "outputs": [
        {
          "output_type": "stream",
          "name": "stdout",
          "text": [
            "On GPU, this took 0.25211000442504883 seconds\n",
            "tensor([1015.8530,  983.0784,  986.8512, 1005.9647,  993.7828, 1016.7318,\n",
            "        1011.9828, 1000.6478, 1018.1515,  990.7535,  981.1157,  986.6193,\n",
            "        1032.9473,  995.9597,  986.3217, 1007.2937, 1014.0529, 1014.4067,\n",
            "        1001.3599,  992.2869, 1009.2740, 1008.9194,  997.5032, 1001.3901,\n",
            "        1003.0159, 1024.9346,  997.7867,  995.0778, 1025.0018, 1018.2590,\n",
            "        1018.7480, 1008.7722, 1022.6011,  982.4832,  989.4149, 1003.7855,\n",
            "         994.8678,  997.8217, 1012.5295,  998.2003, 1007.5624, 1007.5123,\n",
            "         999.7784,  995.6314,  981.2332,  981.8155, 1019.6631, 1005.3573,\n",
            "        1005.5743, 1032.6301, 1011.6502,  991.3535,  987.7388, 1006.7382,\n",
            "        1004.0319, 1006.0072, 1007.6644, 1001.3986,  997.3747,  987.6496,\n",
            "        1021.9854,  987.5500,  962.5059, 1012.8766,  989.5538,  992.6172,\n",
            "         979.3389, 1011.4056,  995.0938, 1006.8687,  998.6416, 1002.6862,\n",
            "        1008.2056, 1010.6499, 1004.2031, 1004.6546, 1013.4085, 1011.7359,\n",
            "         994.0591, 1009.4411,  991.5989, 1011.4106, 1015.6940,  981.6245,\n",
            "        1003.3368, 1011.0045, 1027.5453, 1028.3553,  994.3650, 1027.6847,\n",
            "        1009.0145,  997.0048,  970.5250, 1006.0221,  993.5942,  986.5223,\n",
            "        1002.9287, 1019.8693,  994.8577, 1023.5123, 1029.8877,  990.9659,\n",
            "        1006.9530,  985.8245,  985.6185,  981.8005, 1016.5997, 1003.5191,\n",
            "         988.3152,  999.9612,  993.3588,  988.0442, 1009.1004, 1008.1401,\n",
            "         990.5564,  990.4095,  986.7961,  991.1575,  977.4990, 1021.8607,\n",
            "        1018.8905,  992.7839, 1006.5541,  996.8105,  987.0406,  987.1436,\n",
            "         996.5249, 1002.7762,  996.1857, 1012.2757,  998.6013,  973.4141,\n",
            "        1029.1168, 1012.1508, 1008.2554, 1003.9500, 1012.2031, 1002.8326,\n",
            "        1010.7094,  981.8692, 1010.0551, 1003.5566,  997.8147,  995.3560,\n",
            "        1002.2602, 1001.4535,  991.3074,  971.4949,  966.7221,  987.7828,\n",
            "         985.7828,  996.9778, 1007.4108,  997.7792, 1001.9622,  999.9988,\n",
            "         994.7225, 1006.6473, 1011.0596, 1012.1625,  999.2059,  997.7997,\n",
            "        1003.2906,  996.6015, 1004.9115,  984.2925, 1013.7801, 1024.2433,\n",
            "         994.3195, 1010.6433, 1008.1149,  985.2204, 1009.7761, 1000.0182,\n",
            "        1004.5823,  993.5416,  991.7125,  996.9024,  986.0103,  998.9353,\n",
            "        1009.3924, 1003.0211,  995.7807, 1005.8110,  993.4943, 1008.2733,\n",
            "        1005.7775, 1019.3693, 1010.5980, 1024.2809, 1016.2973, 1013.8025,\n",
            "         993.7706, 1012.7696, 1000.1318,  993.4038, 1029.6989, 1008.5583,\n",
            "        1004.3499,  989.9465,  999.8592,  998.5649, 1012.7431, 1001.2503,\n",
            "        1008.0879, 1006.4075, 1016.3484,  989.5543, 1021.2490, 1002.6946,\n",
            "         985.5664,  979.1116,  987.4972,  994.9837, 1005.5667,  984.9939,\n",
            "         990.9284, 1021.0792, 1005.2961, 1009.6548, 1003.8839,  978.4467,\n",
            "         988.3587, 1010.4905,  988.5283, 1008.3901, 1004.3964, 1013.9503,\n",
            "        1001.3920,  997.0484, 1002.8561, 1000.0335, 1008.5356,  994.7988,\n",
            "        1014.0427, 1005.7877, 1004.3513,  987.0103, 1009.2578,  997.6074,\n",
            "         985.4595, 1001.5591, 1010.3826, 1002.6675, 1008.4023,  998.1881,\n",
            "        1000.8313,  996.7445, 1011.6710, 1016.7110, 1008.0527, 1006.5351,\n",
            "        1004.7675, 1000.8246,  997.0031,  961.5941, 1000.7184, 1008.3861,\n",
            "         989.0001,  995.7190,  992.3502, 1023.9756,  992.4475,  987.1827,\n",
            "         990.4359, 1008.3371, 1006.3785, 1012.0971, 1025.4443, 1004.7260,\n",
            "         985.2573,  996.5938,  981.3549, 1006.1452, 1008.8547, 1013.6910,\n",
            "         996.0719, 1000.7023,  987.0829,  995.2255,  998.9089, 1016.6703,\n",
            "         999.2581, 1013.6947,  991.2010, 1000.3958,  988.9413,  990.7565,\n",
            "        1001.3815, 1014.3552, 1005.7780, 1010.7211, 1007.0962,  994.2341,\n",
            "         994.9603, 1001.4266, 1001.1574,  995.6835,  996.4622, 1007.0928,\n",
            "        1007.4399, 1000.1842, 1016.4764,  994.4005,  974.3699,  993.4186,\n",
            "        1016.1223,  987.3247,  991.2522, 1012.0933,  987.2756,  996.8909,\n",
            "        1003.7493, 1004.1180, 1001.4606, 1011.0045,  986.8961,  984.8631,\n",
            "         973.0334, 1018.0134,  984.9058,  980.5345, 1012.1745,  988.7478,\n",
            "         996.1902, 1000.6042, 1003.5997,  982.3956, 1009.3470, 1013.5851,\n",
            "         976.6880,  985.8472,  997.6752,  990.1547,  993.2371, 1009.7250,\n",
            "         994.3904,  995.5183,  990.0876, 1008.8432, 1007.9523,  993.4765,\n",
            "        1011.2505,  992.6447,  987.8988, 1007.2930,  981.7798, 1005.3304,\n",
            "         997.7192,  996.0105,  991.2544, 1018.6597, 1011.1526,  998.0918,\n",
            "         987.1263, 1003.0751, 1001.9572,  995.4877,  981.6895, 1013.5298,\n",
            "        1016.3630,  983.5599, 1015.7609,  981.4292,  989.6005, 1008.7736,\n",
            "         992.9579, 1001.9410, 1005.5246, 1008.8417,  992.4767, 1011.6915,\n",
            "        1004.1340, 1006.7254, 1009.0563,  989.5433, 1016.8495,  990.3575,\n",
            "        1004.2087, 1014.1032,  994.7007,  983.3457, 1001.8508, 1009.8839,\n",
            "         998.1239,  979.6882, 1008.8273,  998.4643, 1024.1368, 1002.2706,\n",
            "        1027.9351,  993.4370,  985.9620,  996.1290, 1016.3841, 1013.1792,\n",
            "         978.0788,  995.0137,  993.8334,  992.7152,  981.5671,  991.3925,\n",
            "        1013.3490, 1001.4435,  984.3051,  978.9991,  995.6351,  992.0116,\n",
            "         999.6660, 1009.8358, 1017.1916, 1003.2658,  991.4879, 1005.5343,\n",
            "        1023.1404,  995.9099,  998.8030, 1017.7410, 1008.6594, 1013.5355,\n",
            "        1019.3475,  993.2693, 1012.0050, 1014.0495,  995.1868,  974.5391,\n",
            "        1029.0294, 1014.9927,  990.3707,  988.5184, 1014.6674, 1005.8079,\n",
            "        1009.5101,  989.6555,  998.9066, 1011.2498,  992.9420, 1012.9755,\n",
            "         990.4308,  981.6693,  991.7084, 1021.3843,  997.1146,  973.7576,\n",
            "        1005.2919, 1009.5632,  990.4505, 1003.3137,  994.0319, 1005.8422,\n",
            "        1012.3904, 1007.8630, 1004.7345,  994.6909,  996.5334,  989.7720,\n",
            "         988.2311,  990.4199,  988.1894, 1003.1682,  995.2908,  997.2659,\n",
            "         985.3265,  992.3982, 1007.1209,  996.9296,  996.3393, 1015.8406,\n",
            "        1013.9547, 1001.2914,  979.0566,  993.0185,  992.9999, 1000.0692,\n",
            "        1000.7343, 1005.2250, 1010.2705,  993.5809,  966.6750,  980.7131,\n",
            "         992.8593, 1005.0541, 1010.4427, 1006.7762, 1002.2713, 1008.8491,\n",
            "        1004.2186, 1014.8203, 1018.4891, 1003.0842, 1016.7627, 1002.1983,\n",
            "        1012.0386,  986.8428, 1022.2169,  981.5488, 1015.4142,  991.6945,\n",
            "        1015.4319, 1002.0455,  989.9869, 1007.4537, 1000.7494, 1004.9541,\n",
            "         994.7261, 1007.4711,  993.3760, 1017.6792,  990.1907, 1002.8983,\n",
            "        1025.3915,  987.0822, 1015.9757, 1004.0605,  980.1694, 1007.0259,\n",
            "         997.9191,  999.1960,  982.8467,  987.9653, 1003.3447, 1002.9610,\n",
            "        1009.6976, 1011.1823, 1003.0765, 1008.9023, 1012.5956, 1007.8030,\n",
            "         994.8521,  989.1922,  988.8843, 1010.8562, 1016.5803, 1002.5780,\n",
            "         976.8345, 1001.9473, 1006.7332,  992.9849,  984.3182,  989.8237,\n",
            "         990.6343,  998.4111, 1006.5247,  999.6854,  997.3716, 1003.8531,\n",
            "        1003.8526, 1016.0612, 1040.1862,  996.8846,  982.0294,  999.9860,\n",
            "         999.5253, 1006.3626,  994.7769, 1007.3469, 1001.1462,  993.5011,\n",
            "         995.3431, 1025.1781,  989.5158,  991.7157,  982.3292,  975.8633,\n",
            "        1010.7111,  993.3787,  998.5153,  988.5892,  976.9468, 1005.3060,\n",
            "         997.0132, 1000.2986, 1000.9281, 1008.4180,  983.5596,  983.3263,\n",
            "        1000.1086, 1000.3689, 1003.1467, 1004.0771,  988.6468,  989.4702,\n",
            "        1008.8187,  993.0913, 1003.4980, 1014.5165, 1006.1298, 1003.7461,\n",
            "         991.3124, 1027.0698,  987.1872,  984.5358,  998.7922,  996.1541,\n",
            "         997.5121, 1021.3953,  996.9644,  986.0475,  969.1876, 1003.2601,\n",
            "        1011.1443, 1012.1595,  998.3696, 1003.2031, 1005.3434,  997.3428,\n",
            "         982.2900, 1008.4080, 1017.8539,  979.0135,  997.4985,  995.8924,\n",
            "        1006.4095, 1006.4482, 1006.7375, 1004.6874, 1004.2914,  988.9756,\n",
            "        1001.7214,  992.6360,  992.1811,  997.4720,  994.2147, 1023.8854,\n",
            "         991.9702, 1002.4356,  991.0411,  987.5386,  986.4681,  990.2378,\n",
            "        1009.4636, 1009.7845,  980.9516,  992.9371, 1002.9956, 1002.5206,\n",
            "         982.8253, 1021.3961,  987.7386,  996.1151,  996.0479, 1006.4795,\n",
            "        1004.9034, 1006.7469,  973.4318, 1007.0457,  994.7373,  987.1329,\n",
            "         998.4120,  988.2874,  996.6041,  972.9395,  985.7099, 1003.1349,\n",
            "         993.1603, 1008.6885,  986.8332,  976.8560,  998.6008, 1016.3641,\n",
            "        1007.4343, 1026.7644,  984.5270, 1001.9054,  997.9951, 1008.6261,\n",
            "        1010.4179, 1011.0548,  996.2075, 1002.9941, 1011.2777,  996.2371,\n",
            "        1009.9637, 1011.3495, 1014.4971,  988.2161, 1003.0007, 1012.2169,\n",
            "        1016.2462,  998.3442,  995.3920, 1008.2010, 1010.2246, 1007.4178,\n",
            "        1007.2976, 1024.7932,  983.8326,  980.9106,  992.8997, 1018.1169,\n",
            "        1001.1244, 1006.0414,  994.6298,  978.5600,  999.1377,  995.9600,\n",
            "        1009.1646, 1001.2098,  985.6123, 1010.8844, 1014.9737,  985.0300,\n",
            "        1019.9607, 1004.6325, 1000.3560, 1015.7073, 1004.9441, 1001.8394,\n",
            "         993.3174, 1008.0690,  987.0971,  978.4570, 1003.0599, 1004.1110,\n",
            "         995.4995, 1009.9278,  984.9100,  976.3776,  994.6418,  997.9452,\n",
            "         994.0419,  997.0173, 1002.7490, 1000.0001,  994.0463, 1001.2701,\n",
            "         989.5443,  982.3121,  983.5213, 1009.2147, 1007.8710, 1007.4111,\n",
            "         996.7633, 1006.2007,  990.9609, 1015.4177,  992.4240, 1008.0110,\n",
            "        1009.6851, 1014.0078, 1022.1936,  999.3932,  985.7920, 1010.2494,\n",
            "        1007.7598, 1000.6254, 1010.4149,  972.3664,  995.6568, 1015.4764,\n",
            "        1003.1663,  974.0146,  991.9540, 1008.2311,  994.0179,  991.2383,\n",
            "        1027.3346,  989.3022,  992.8097,  992.9133,  976.0812, 1010.6169,\n",
            "        1001.8009, 1035.0276,  994.0757,  993.0812,  996.1840, 1000.3554,\n",
            "         999.0626, 1007.8590,  997.6852,  989.5695, 1008.4951, 1005.1750,\n",
            "         970.0198,  989.5219, 1011.5604, 1011.7401,  980.7544,  989.0446,\n",
            "        1008.2727,  996.1223,  993.0916, 1005.8179,  994.9198, 1008.1555,\n",
            "        1016.3740, 1001.0201,  996.8609, 1006.3890, 1007.7507, 1020.0449,\n",
            "        1013.1373,  992.3395, 1022.6443, 1001.0209,  991.2936, 1002.0758,\n",
            "         998.3122, 1006.5802,  988.1352, 1008.1729,  994.9566,  998.7071,\n",
            "         998.6885, 1015.5463,  991.4429,  985.6175, 1005.1471, 1005.0277,\n",
            "         973.3009, 1002.9415,  991.2233, 1018.3690, 1019.1594, 1027.6536,\n",
            "         996.9445, 1005.9369,  988.4870,  996.2838, 1000.9450, 1003.8361,\n",
            "        1004.9949, 1004.2929,  995.8190, 1003.1733, 1006.9233,  984.1437,\n",
            "        1005.6611,  996.6220,  998.9339, 1002.8799, 1008.4045,  992.3514,\n",
            "         986.1042,  989.0695,  993.5671,  996.4183, 1004.7513, 1003.8888,\n",
            "         987.4840,  995.0165, 1003.1138, 1015.6856, 1019.5953,  985.8727,\n",
            "        1001.6748,  996.6435, 1018.8322, 1006.1490,  993.2755, 1010.7739,\n",
            "        1005.4305,  990.7934,  990.6912,  997.8221, 1023.4385,  983.6177,\n",
            "        1006.5046,  984.1053,  981.3707,  987.5477, 1019.9356,  976.2993,\n",
            "         984.5630, 1001.5220,  997.1627, 1009.6818,  986.7151, 1017.0018,\n",
            "         994.4824, 1006.1429, 1009.7017, 1012.5593, 1022.1390,  989.5640,\n",
            "         998.6460, 1008.6223, 1005.9794, 1011.8340,  993.8842,  993.9178,\n",
            "         983.4811, 1023.2495, 1003.6362, 1010.1049, 1012.0479, 1008.7974,\n",
            "        1003.7357, 1000.4882,  987.3753,  999.8641,  989.5383, 1003.2549,\n",
            "        1013.8735,  980.2048,  970.5603,  988.4566, 1006.7443,  998.6578,\n",
            "        1009.3757, 1008.5591,  985.9586, 1034.2603, 1020.5068,  997.4893,\n",
            "        1003.0565, 1005.5634, 1012.2684,  987.0956, 1004.2553, 1003.1722,\n",
            "        1021.3774,  988.2870,  995.3453, 1001.3357, 1006.9565,  977.8455,\n",
            "        1004.4556, 1002.2179, 1001.8677, 1011.5215, 1006.9532,  983.9593,\n",
            "        1016.5526, 1001.8062,  995.5139, 1002.1536,  997.4036, 1005.6053,\n",
            "         981.6159, 1017.7784, 1021.1951,  998.9577,  996.6749,  994.7862,\n",
            "         997.6113, 1011.7518,  988.2928,  995.1643,  999.2641,  986.7711,\n",
            "        1005.4699,  997.7916,  993.1760, 1006.0262, 1002.6353,  991.8726,\n",
            "         985.7575, 1010.9428,  976.8973, 1000.4635,  984.2393,  995.5109,\n",
            "        1003.1228,  991.8680, 1008.9320,  993.2822,  995.1097, 1005.1892,\n",
            "        1000.3852,  978.9633, 1008.8815, 1002.5664,  992.1531, 1002.8323,\n",
            "        1010.3199,  996.0264, 1016.4183, 1000.3546,  988.2479,  994.3754,\n",
            "        1001.4495, 1002.2628,  993.7111,  991.2350,  981.0820, 1003.0529,\n",
            "         991.7971, 1022.6249, 1008.1191,  987.9199, 1016.3091,  997.6089,\n",
            "         973.3831, 1007.5303,  972.8940,  997.9835,  995.6080,  991.2666,\n",
            "        1005.8253,  996.3520,  990.0915, 1016.1310,  986.0146, 1002.3449,\n",
            "         983.2955, 1006.0369,  987.8588,  986.8071])\n"
          ]
        }
      ]
    },
    {
      "cell_type": "code",
      "source": [
        "import numpy as np\n",
        "import matplotlib.pyplot as plt\n",
        "\n",
        "# Pi from numpy\n",
        "pi = torch.from_numpy(np.array(np.pi))\n",
        "x = torch.linspace(-pi, pi, 200, dtype=torch.float64, requires_grad=True)\n",
        "# Compute the sine of x\n",
        "y = torch.sin(x)\n",
        "# Compute the cosine of x (gradient of y)\n",
        "y.sum().backward()\n",
        "z = x.grad\n",
        "\n",
        "# Now, do some plotting\n",
        "x, y, z = x.detach().numpy(), y.detach().numpy(), z.detach().numpy()\n",
        "plt.plot(x, y)\n",
        "plt.plot(x, z)\n",
        "plt.show()"
      ],
      "metadata": {
        "colab": {
          "base_uri": "https://localhost:8080/",
          "height": 265
        },
        "id": "L3Lqj3lfnN2p",
        "outputId": "52072d26-b86f-434c-93a7-c93ceff5ab78"
      },
      "execution_count": 4,
      "outputs": [
        {
          "output_type": "display_data",
          "data": {
            "image/png": "[encoded data removed]",
            "text/plain": [
              "<Figure size 432x288 with 1 Axes>"
            ]
          },
          "metadata": {
            "needs_background": "light"
          }
        }
      ]
    },
    {
      "cell_type": "code",
      "source": [
        ""
      ],
      "metadata": {
        "id": "Mq856fw8nQM2"
      },
      "execution_count": null,
      "outputs": []
    }
  ]
}